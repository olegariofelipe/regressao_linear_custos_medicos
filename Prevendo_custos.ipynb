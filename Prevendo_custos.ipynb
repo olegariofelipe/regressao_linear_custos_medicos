{
  "nbformat": 4,
  "nbformat_minor": 0,
  "metadata": {
    "colab": {
      "provenance": []
    },
    "kernelspec": {
      "name": "python3",
      "display_name": "Python 3"
    },
    "language_info": {
      "name": "python"
    }
  },
  "cells": [
    {
      "cell_type": "code",
      "execution_count": 10,
      "metadata": {
        "colab": {
          "base_uri": "https://localhost:8080/"
        },
        "cellView": "form",
        "id": "j1S_D6FjO092",
        "outputId": "ccb683b6-22d5-41e0-f35c-cd7dd9a0a9fb"
      },
      "outputs": [
        {
          "output_type": "stream",
          "name": "stdout",
          "text": [
            "Custo médio estimado: $ 3533.64\n"
          ]
        }
      ],
      "source": [
        "# @title Preditor de Custos Médicos\n",
        "\n",
        "# Importação de módulos:\n",
        "import pickle\n",
        "import warnings\n",
        "warnings.filterwarnings('ignore')\n",
        "\n",
        "# Carregando modelo:\n",
        "with open('previsao_custos_medicos.skl', 'rb') as arquivo:\n",
        "  modelo = pickle.load(arquivo)\n",
        "\n",
        "# Veriáveis de predição:\n",
        "age = 25               #@param {type:\"slider\", min:18, max:70, step:1}\n",
        "bmi = 26.53               #@param {type:\"slider\", min:15, max:55, step:0.01}\n",
        "children = 2          #@param {type:\"slider\", min:0, max:5, step:1}\n",
        "smoker = False            #@param {type:\"boolean\"}\n",
        "region_northeast = False  #@param {type:\"boolean\"}\n",
        "region_northwest = False  #@param {type:\"boolean\"}\n",
        "region_southeast = True  #@param {type:\"boolean\"}\n",
        "region_southwest = False  #@param {type:\"boolean\"}\n",
        "\n",
        "# Agrupando informações:\n",
        "dados = [[age, bmi, children, smoker, region_northeast,\n",
        "          region_northwest, region_southeast, region_southwest ]]\n",
        "\n",
        "# Realizando predição e mostrando resultado:\n",
        "resultado = modelo.predict(dados)[0].round(2)\n",
        "print(f'Custo médio estimado: $ {resultado}')"
      ]
    }
  ]
}